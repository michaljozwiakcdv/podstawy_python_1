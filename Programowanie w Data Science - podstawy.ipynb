{
 "cells": [
  {
   "cell_type": "code",
   "execution_count": 5,
   "metadata": {},
   "outputs": [
    {
     "name": "stdout",
     "output_type": "stream",
     "text": [
      "[1, 2, 4, 7, 8, 14, 28, 56]\n"
     ]
    }
   ],
   "source": [
    "# Zadanie 1 - Napisz skrypt, który będzie wyświetlać wszystkie kolejne dzielniki wprowadzonej liczby\n",
    "def function (number):\n",
    "    index = 1\n",
    "    \n",
    "    result = []\n",
    "    while index <= number:\n",
    "        if number%index==0:\n",
    "            result.append(index)\n",
    "        index = index + 1\n",
    "    return result\n",
    "            \n",
    "print(function(56))"
   ]
  },
  {
   "cell_type": "code",
   "execution_count": 30,
   "metadata": {},
   "outputs": [
    {
     "name": "stdout",
     "output_type": "stream",
     "text": [
      "[(-0.3333333333333333+0.47140452079103173j), (-0.3333333333333333-0.47140452079103173j)]\n"
     ]
    }
   ],
   "source": [
    "# Zadanie 4 - Utwórz skrypt do znajdowania miejsc zerowych trójmianu kwadratowego x1 = (-b+sqrt(b*b-4*a*c))/(2*a)\n",
    "# x2 = (-b-sqrt(b*b-4*a*c))/(2*a)\n",
    "\n",
    "def function(a, b, c):\n",
    "    x1 = (-b + (b*b-4*a*c)**0.5)/(2*a)\n",
    "    x2 = (-b-(b*b-4*a*c)**0.5)/(2*a)\n",
    "    \n",
    "    return [x1, x2]\n",
    "\n",
    "print(function(3, 2, 1))"
   ]
  },
  {
   "cell_type": "code",
   "execution_count": 32,
   "metadata": {},
   "outputs": [
    {
     "name": "stdout",
     "output_type": "stream",
     "text": [
      "dodatnia\n",
      "dodatnia\n",
      "dodatnia\n",
      "ujemna\n",
      "ujemna\n",
      "ujemna\n"
     ]
    }
   ],
   "source": [
    "# Zadanie 5 - Utwórz skrypt, który będzie komunikować, czy wprowadzona liczba jest dodatnia czy nie\n",
    "\n",
    "def function(x):\n",
    "    if x > 0:\n",
    "        return 'dodatnia'\n",
    "    else:\n",
    "        return 'ujemna'\n",
    "    \n",
    "print(function(4))\n",
    "print(function(876124))\n",
    "print(function(1))\n",
    "\n",
    "print(function(-4))\n",
    "print(function(-816253))\n",
    "print(function(0))"
   ]
  },
  {
   "cell_type": "code",
   "execution_count": 33,
   "metadata": {},
   "outputs": [
    {
     "name": "stdout",
     "output_type": "stream",
     "text": [
      "36253977000332491/2251799813685248\n"
     ]
    }
   ],
   "source": [
    "# Zadanie 6 - Utwórz skrypt dodający ułamki zwykłe\n",
    "\n",
    "from fractions import Fraction\n",
    "\n",
    "def function(x, y):\n",
    "    return(Fraction(x) + Fraction(y))\n",
    "\n",
    "print(function(1.4, 14.7))"
   ]
  },
  {
   "cell_type": "code",
   "execution_count": 39,
   "metadata": {},
   "outputs": [
    {
     "name": "stdout",
     "output_type": "stream",
     "text": [
      "Podaj zdanie: Ala ma kota\n",
      "a\n",
      "t\n",
      "o\n",
      "k\n",
      " \n",
      "a\n",
      "m\n",
      " \n",
      "a\n",
      "l\n",
      "A\n"
     ]
    }
   ],
   "source": [
    "# Zadanie 7 - Utwórz skrypt z interfejsem tekstowym, który pobierze od użytkownika zdanie i wyświetli w kolejnych wierszach litery tego zdania w odwróconej kolejności\n",
    "\n",
    "def function(x):\n",
    "    for char in reversed(x):  \n",
    "        print(char)\n",
    "    \n",
    "    \n",
    "x = input('Podaj zdanie: ')\n",
    "function(x)"
   ]
  },
  {
   "cell_type": "code",
   "execution_count": 63,
   "metadata": {},
   "outputs": [
    {
     "name": "stdout",
     "output_type": "stream",
     "text": [
      "Podaj ilość elementów: 3\n",
      "Podaj liczbę: 1\n",
      "Podaj liczbę: 2\n",
      "Podaj liczbę: 3\n",
      "Srednia to: 2.0\n",
      "Odchylenie to: 0.816496580927726\n",
      "Podaj liczbę: 1\n",
      "Podaj liczbę: 2\n",
      "Podaj liczbę: 3\n",
      "Srednia to:2.0\n",
      "Odchylenie to:0.816496580927726\n"
     ]
    }
   ],
   "source": [
    "# Zadanie 10 - Utwórz skrypt z interfejsem tekstowym, który przyjmie od użytkownika ile elementów chce on wprowadzić do listy, przyjmie te elementy, a następnie wyliczy: średnią i odchylenie standardowe średniej. Wykonać zadanie na dwa sposoby: poprzez utworzenie funkcji własnych obliczających średnią i odchylenie standardowe oraz korzystając z gotowych funkcji np. z pakietu numpy\n",
    "import numpy as np \n",
    "\n",
    "def own(x):\n",
    "    a = []\n",
    "    for times in range(int(x)):\n",
    "        a.append(int(input('Podaj liczbę: ')))\n",
    "        \n",
    "    sum = 0\n",
    "    for listElement in a:\n",
    "        sum = sum + listElement\n",
    "    \n",
    "    avg = sum/int(x)\n",
    "    print('Srednia to: ' + str(avg))\n",
    "    \n",
    "    deviationSum = 0\n",
    "    for element in a:\n",
    "        el = (element-avg)**2\n",
    "        deviationSum = deviationSum + el\n",
    "        \n",
    "    deviation = (deviationSum/int(x))**0.5\n",
    "    print('Odchylenie to: ' + str(deviation))\n",
    "    \n",
    "def builtIn(x):\n",
    "    a = []\n",
    "    for times in range(int(x)):\n",
    "        a.append(int(input('Podaj liczbę: ')))\n",
    "    \n",
    "    print('Srednia to:' + str(np.average(a)))\n",
    "    print('Odchylenie to:' + str(np.std(a)))\n",
    "\n",
    "qty = input('Podaj ilość elementów: ')\n",
    "own(qty)\n",
    "builtIn(qty)"
   ]
  },
  {
   "cell_type": "code",
   "execution_count": 70,
   "metadata": {},
   "outputs": [
    {
     "data": {
      "image/png": "[encoded data removed]",
      "text/plain": [
       "<Figure size 432x288 with 1 Axes>"
      ]
     },
     "metadata": {
      "needs_background": "light"
     },
     "output_type": "display_data"
    }
   ],
   "source": [
    "# Zadanie 15 - Utwórz skrypt, w którym zamieścisz 3 listy danych, zawierające po 14 temperatur dla 3 wybranych miast na kolejne 14 dni oraz utwórz wykres z tych danych. Twój wykres powinien mieć 3 linie z zaznaczonymi punktami danych za pomocą różnych znaczników, tytuł, opisane osie oraz legendę\n",
    "import pylab as pl\n",
    "\n",
    "qty = list(range(14))\n",
    "list_poznan = [8,9,7,6,9,10,12,12,12,9,10,9,9,8]\n",
    "list_warszawa = [9,10,12,12,13,14,15,12,10,9,8,10,7,9]\n",
    "list_torun = [11,15,3,6,10,10,14,9,11,22,8,15,4,3]\n",
    "\n",
    "pl.plot(qty, list_poznan, '-y', qty, list_warszawa, '-dg', qty, list_torun, '-.b')\n",
    "\n",
    "title = pl.title(\"Pogoda w Poznaniu, Warszawie i Toruniu\")\n",
    "x_label = pl.xlabel(\"Dni\")\n",
    "y_label = pl.ylabel(\"Temp. w st. C\")\n",
    "my_legend = pl.legend([\"P-ń\", \"W-wa\", \"T-ń\"])\n",
    "\n",
    "pl.setp(title, color=\"r\", fontsize=22)\n",
    "pl.setp(x_label, color=\"b\", fontsize=18)\n",
    "pl.setp(y_label, color=\"w\", fontsize=18)\n",
    "\n",
    "pl.grid(color=\"k\", linestyle=\"-\", linewidth=1)\n",
    "pl.savefig('chart1.png')"
   ]
  },
  {
   "cell_type": "code",
   "execution_count": 72,
   "metadata": {},
   "outputs": [
    {
     "name": "stdout",
     "output_type": "stream",
     "text": [
      "25.225\n",
      "25.225\n"
     ]
    }
   ],
   "source": [
    "# Zadanie 21 - Utwórz fukcję, która jako argument będzie przyjmować listę liczb zmiennoprzecinkowych, a jej wynikiem będzie średnia arytmetyczna. Porównaj jej wynik z wynikiem fukcji mean z pakietu numpy\n",
    "import numpy as np \n",
    "\n",
    "def function(x):\n",
    "    sum = 0.0\n",
    "    for a in x:\n",
    "        sum = sum + a\n",
    "        \n",
    "    return sum/len(x)\n",
    "    \n",
    "list = [1.5, 3.4, 6.7, 89.3]\n",
    "print(function(list))\n",
    "print(np.mean(list))"
   ]
  },
  {
   "cell_type": "code",
   "execution_count": 75,
   "metadata": {},
   "outputs": [
    {
     "name": "stdout",
     "output_type": "stream",
     "text": [
      "1371.9968749999996\n"
     ]
    }
   ],
   "source": [
    "# Zadanie 25 - Utwórz fukcję, która jako argument będzie przyjmować listę liczb zmiennoprzecinkowych, a jej wynikiem będzie drugi moment centralny (wariancja)\n",
    "\n",
    "def function(x):\n",
    "    avg = np.mean(x)\n",
    "\n",
    "    variance = 0\n",
    "    for i in x:\n",
    "        variance = variance + (avg - i)**2\n",
    "    return variance/len(x)\n",
    "\n",
    "list = [1.5, 3.4, 6.7, 89.3]\n",
    "print(function(list))"
   ]
  },
  {
   "cell_type": "code",
   "execution_count": 79,
   "metadata": {},
   "outputs": [
    {
     "name": "stdout",
     "output_type": "stream",
     "text": [
      "1.1460147669940166\n"
     ]
    }
   ],
   "source": [
    "# Zadanie 26 - Utwórz funkcję, która jako argument będzie przyjmować listę liczb zmiennoprzecinkowych, a jej wynikiem będzie trzeci moment centralny (skośność)\n",
    "import numpy as np \n",
    "\n",
    "def function(x):\n",
    "    avg = np.mean(x)\n",
    "    \n",
    "    result = 0\n",
    "    for number in x:\n",
    "        result = result + (number-avg)**3\n",
    "    \n",
    "    return (1/(np.std(x))**3) * result/len(x)\n",
    "\n",
    "list = [1.5, 3.4, 6.7, 89.3]\n",
    "print(function(list))"
   ]
  },
  {
   "cell_type": "code",
   "execution_count": 83,
   "metadata": {},
   "outputs": [
    {
     "name": "stdout",
     "output_type": "stream",
     "text": [
      "0.9923833664264938\n"
     ]
    }
   ],
   "source": [
    "# Zadanie 28 - Utwórz funkcję, która jako argument będzie przyjmować dwie listy o równej liczbie elementów, a jej wynikiem będzie współczynnik korelacji\n",
    "\n",
    "def function(x_numbers, y_numbers):\n",
    "    x_number_len = len(x_numbers)\n",
    "    y_number_len = len(y_numbers)\n",
    "        \n",
    "    if len(x_numbers) != len(y_numbers):\n",
    "        raise ValueError('nie działa')\n",
    "    \n",
    "    x_sum = sum(x_numbers)\n",
    "    y_sum = sum(y_numbers)\n",
    "    xy_sum = sum([a*b for a,b in zip(x_numbers, y_numbers)])\n",
    "                         \n",
    "    x_sum2 = sum(i**2 for i in x_numbers)\n",
    "    y_sum2 = sum(i**2 for i in y_numbers)\n",
    "    \n",
    "    counter = ((x_number_len*xy_sum) - (x_sum*y_sum))\n",
    "    denominator_1 = ((x_number_len*x_sum2) - x_sum**2)\n",
    "    denominator_2 = ((y_number_len*y_sum2) - y_sum**2)\n",
    "    \n",
    "    return counter / math.sqrt(denominator_1*denominator_2)\n",
    "\n",
    "print(function([1.3,2.5,3.8,4.2,5.9,6.6,7.7,3.5,7.2,7.1], [1,2,3,4,5,6,7,3,7,7]))"
   ]
  },
  {
   "cell_type": "code",
   "execution_count": 84,
   "metadata": {},
   "outputs": [
    {
     "name": "stdout",
     "output_type": "stream",
     "text": [
      "[0.9960159362549816, 267.40678196305754]\n"
     ]
    }
   ],
   "source": [
    "#Zadanie 29 - Utwórz funkcję, która jako argument będzie przyjmować dwie listy o równej liczbie elementów, a jej wynikiem będą współczynniki regresji liniowej\n",
    "\n",
    "def function(x_numbers, y_numbers):\n",
    "    x_number_len = len(x_numbers)\n",
    "    y_number_len = len(y_numbers)\n",
    "    \n",
    "    if len(x_numbers) != len(y_numbers):\n",
    "        raise ValueError('nie działa')\n",
    "           \n",
    "\n",
    "    x_sum = sum(x_numbers)\n",
    "    y_sum = sum(y_numbers)\n",
    "    xy_sum = sum([a*b for a,b in zip(x_numbers, y_numbers)])\n",
    "    \n",
    "    x_sum2 = sum(i**2 for i in x_numbers)\n",
    "    y_sum2 = sum(i**2 for i in y_numbers)\n",
    "           \n",
    "    a_counter = ((x_number_len*xy_sum) - (x_sum*y_sum))\n",
    "    denominator = ((x_number_len*x_sum2) - x_sum**2) \n",
    "    a = a_counter / denominator\n",
    "           \n",
    "    b_counter = ((x_number_len*x_sum2)*y_sum) - (x_sum*xy_sum)\n",
    "    b = b_counter / denominator\n",
    "           \n",
    "           \n",
    "    return [a, b]\n",
    "           \n",
    "print(linear_regression([1.3,2.5,3.8,4.2,5.9,6.6,7.7,3.5,7.2,7.1], [1,2,3,4,5,6,7,3,7,7]))"
   ]
  },
  {
   "cell_type": "code",
   "execution_count": 93,
   "metadata": {},
   "outputs": [
    {
     "name": "stdout",
     "output_type": "stream",
     "text": [
      "True\n"
     ]
    }
   ],
   "source": [
    "#Zadanie 35 - Utwórz klasę Prostokąt, a następnie na jej podstawie (korzystając z mechanizmu dziedziczenia) utwórz klasę Kwadrat\n",
    "\n",
    "class Ractangle:\n",
    "    def __init__(self, a, b):\n",
    "        self.a = a\n",
    "        self.b = b\n",
    "    \n",
    "    \n",
    "class Square(Ractangle):\n",
    "    def __init__(self, a):\n",
    "        self.a = a\n",
    "        \n",
    "a = Square(4)\n",
    "print(isinstance(a, Ractangle))"
   ]
  }
 ],
 "metadata": {
  "kernelspec": {
   "display_name": "Python 3",
   "language": "python",
   "name": "python3"
  },
  "language_info": {
   "codemirror_mode": {
    "name": "ipython",
    "version": 3
   },
   "file_extension": ".py",
   "mimetype": "text/x-python",
   "name": "python",
   "nbconvert_exporter": "python",
   "pygments_lexer": "ipython3",
   "version": "3.7.4"
  }
 },
 "nbformat": 4,
 "nbformat_minor": 2
}
