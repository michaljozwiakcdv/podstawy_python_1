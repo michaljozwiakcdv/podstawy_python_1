{
 "cells": [
  {
   "cell_type": "code",
   "execution_count": 54,
   "metadata": {},
   "outputs": [],
   "source": [
    "#3. Utwórz klasę Vector3D. Wykorzystaj całą wiedzę jaką posiadasz na temat wektorów w przestrzeni. Zdefiniuj wszystkie znane Ci operacje.\n",
    "import numpy as np \n",
    "\n",
    "class Vector3D:\n",
    "    def __init__(self, x, y, z):\n",
    "        self.x = float(x)\n",
    "        self.y = float(y)\n",
    "        self.z = float(z)\n",
    "        \n",
    "    def __vectoLength__(self):\n",
    "        return (self.x**2 + self.y**2 + self.z**2)**0.5\n",
    "    \n",
    "    def __sum__(self, x):\n",
    "        vector1 = np.array([self.x, self.y, self.z])\n",
    "        vector2 = np.array(x)\n",
    "        \n",
    "        return vector1 + vector2\n",
    "    \n",
    "    def __subtraction__(self, x):\n",
    "        vector1 = np.array([self.x, self.y, self.z])\n",
    "        vector2 = np.array(x)\n",
    "        \n",
    "        return vector1 - vector2\n",
    "    \n",
    "    def __scalarMultiplication__(self, x):\n",
    "        vector1 = np.array([self.x, self.y, self.z])\n",
    "        vector2 = np.array(x)\n",
    "        \n",
    "        return np.dot(vector1, vector2)\n",
    "    \n",
    "    def __vectorMultiplication__(self, x):\n",
    "        vector1 = np.array([self.x, self.y, self.z])\n",
    "        vector2 = np.array(x)\n",
    "        \n",
    "        return np.cross(vector1, vector2)\n",
    "    \n",
    "    def __multiplicationByNumber__(self, number):\n",
    "        return np.array([self.x, self.y, self.z]) * number\n",
    "        \n",
    "vector3d = Vector3D(2, 3, 1)"
   ]
  },
  {
   "cell_type": "code",
   "execution_count": 45,
   "metadata": {},
   "outputs": [
    {
     "data": {
      "text/plain": [
       "3.7416573867739413"
      ]
     },
     "execution_count": 45,
     "metadata": {},
     "output_type": "execute_result"
    }
   ],
   "source": [
    "# Długość wektora\n",
    "vector3d.__vectoLength__()"
   ]
  },
  {
   "cell_type": "code",
   "execution_count": 46,
   "metadata": {},
   "outputs": [
    {
     "data": {
      "text/plain": [
       "array([6., 9., 9.])"
      ]
     },
     "execution_count": 46,
     "metadata": {},
     "output_type": "execute_result"
    }
   ],
   "source": [
    "# Suma 2 wektorów\n",
    "vector3d.__sum__([4, 6, 8])"
   ]
  },
  {
   "cell_type": "code",
   "execution_count": 47,
   "metadata": {},
   "outputs": [
    {
     "data": {
      "text/plain": [
       "array([-2., -3., -7.])"
      ]
     },
     "execution_count": 47,
     "metadata": {},
     "output_type": "execute_result"
    }
   ],
   "source": [
    "# Różnica 2 wektorów\n",
    "vector3d.__subtraction__([4, 6, 8])"
   ]
  },
  {
   "cell_type": "code",
   "execution_count": 48,
   "metadata": {},
   "outputs": [
    {
     "data": {
      "text/plain": [
       "34.0"
      ]
     },
     "execution_count": 48,
     "metadata": {},
     "output_type": "execute_result"
    }
   ],
   "source": [
    "# Iloczyn skalarny\n",
    "vector3d.__scalarMultiplication__([4, 6, 8])"
   ]
  },
  {
   "cell_type": "code",
   "execution_count": 49,
   "metadata": {},
   "outputs": [
    {
     "data": {
      "text/plain": [
       "array([ 18., -12.,   0.])"
      ]
     },
     "execution_count": 49,
     "metadata": {},
     "output_type": "execute_result"
    }
   ],
   "source": [
    "# Iloczyn wektorowy\n",
    "vector3d.__vectorMultiplication__([4, 6, 8])"
   ]
  },
  {
   "cell_type": "code",
   "execution_count": 55,
   "metadata": {},
   "outputs": [
    {
     "data": {
      "text/plain": [
       "array([24., 36., 12.])"
      ]
     },
     "execution_count": 55,
     "metadata": {},
     "output_type": "execute_result"
    }
   ],
   "source": [
    "# Własności własne wektora\n",
    "vector3d.__multiplicationByNumber__(12)"
   ]
  }
 ],
 "metadata": {
  "kernelspec": {
   "display_name": "Python 3",
   "language": "python",
   "name": "python3"
  },
  "language_info": {
   "codemirror_mode": {
    "name": "ipython",
    "version": 3
   },
   "file_extension": ".py",
   "mimetype": "text/x-python",
   "name": "python",
   "nbconvert_exporter": "python",
   "pygments_lexer": "ipython3",
   "version": "3.7.4"
  }
 },
 "nbformat": 4,
 "nbformat_minor": 2
}
